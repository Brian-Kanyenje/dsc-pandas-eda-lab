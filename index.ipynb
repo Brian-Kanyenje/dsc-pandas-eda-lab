{
 "cells": [
  {
   "cell_type": "markdown",
   "metadata": {},
   "source": [
    "# EXPLORING THE AMES HOUSING DATASET\n",
    "\n",
    "## Introduction\n",
    "\n",
    "This analysis aims to provide insight various key variables in the Ames Dataset such as sale price, overall house condition etc. \n",
    "This will help in understanding the relationship between these variables and how they impact the sale price of houses. This insight will act as a foundation for identifying the various factors affecting sale price of houses.\n",
    "\n",
    "## Objectives\n",
    "\n",
    "The objectives of this project are:\n",
    "\n",
    "* To examine the distribution of key housing variables.\n",
    "* To analyze the relationship between key housing variables and sale price.\n",
    "* To explore the trends in home sale prices over time.\n",
    "* To determine which variables have the strongest positive and negative impact on the sale price.\n",
    "\n",
    "## Questions\n",
    "The research questions for this project are:\n",
    "* What is the distribution of key housing variables and how do they vary across the dataset?\n",
    "* How do key housing variables relate to the sale price of homes?\n",
    "* What are the trends in home sale prices over time?\n",
    "* Which variables have the strongest positive and negative impact on the sale price of homes?"
   ]
  },
  {
   "cell_type": "markdown",
   "metadata": {},
   "source": [
    "## Your Task: Explore the Ames Housing Dataset with Pandas\n",
    "\n",
    "![aerial photo of a neighborhood](images/neighborhood_aerial.jpg)\n",
    "\n",
    "Photo by <a href=\"https://unsplash.com/@mattdonders?utm_source=unsplash&utm_medium=referral&utm_content=creditCopyText\">Matt Donders</a> on <a href=\"/@mattdonders?utm_source=unsplash&utm_medium=referral&utm_content=creditCopyText\">Unsplash</a>\n",
    "\n"
   ]
  },
  {
   "cell_type": "markdown",
   "metadata": {},
   "source": [
    "### Data Understanding\n",
    "\n",
    "Each record (row) in this dataset represents a home that was sold in Ames, IA.\n",
    "\n",
    "Each feature (column) in this dataset is some attribute of that home sale. You can view the file `data/data_description.txt` in this repository for a full explanation of all variables in this dataset — 80 columns in total.\n",
    "\n",
    "We are going to focus on the following features:\n",
    "\n",
    "**SalePrice**: `Sale price of the house in dollars`\n",
    "\n",
    "**TotRmsAbvGrd**: `Total rooms above grade (does not include bathrooms)`\n",
    "\n",
    "**OverallCond**: `Rates the overall condition of the house`\n",
    "```\n",
    "       10\tVery Excellent\n",
    "       9\t Excellent\n",
    "       8\t Very Good\n",
    "       7\t Good\n",
    "       6\t Above Average\t\n",
    "       5\t Average\n",
    "       4\t Below Average\t\n",
    "       3\t Fair\n",
    "       2\t Poor\n",
    "       1\t Very Poor\n",
    "```\n",
    "\n",
    "**YrSold**: `Year Sold (YYYY)`\n",
    "\n",
    "**YearBuilt**: `Original construction date`\n",
    "\n",
    "**LandSlope**: `Slope of property`\n",
    "```\n",
    "       Gtl\tGentle slope\n",
    "       Mod\tModerate Slope\t\n",
    "       Sev\tSevere Slope\n",
    "```"
   ]
  },
  {
   "cell_type": "markdown",
   "metadata": {},
   "source": [
    "### Requirements\n",
    "\n",
    "In this lab you will use your data munging and visualization skills to conduct an exploratory analysis of the dataset.\n",
    "\n",
    "#### 1. Load the Dataset with Pandas\n",
    "\n",
    "Import pandas with the standard alias `pd` and load the data into a dataframe with the standard name `df`.\n",
    "\n",
    "#### 2. Explore Data Distributions\n",
    "\n",
    "Produce summary statistics, visualizations, and interpretive text describing the distributions of `SalePrice`, `TotRmsAbvGrd`, and `OverallCond`.\n",
    "\n",
    "#### 3. Explore Differences between Subsets\n",
    "\n",
    "Separate the data into subsets based on `OverallCond`, then demonstrate how this split impacts the distribution of `SalePrice`.\n",
    "\n",
    "#### 4. Explore Correlations\n",
    "\n",
    "Find the features that have the strongest positive and negative correlations with `SalePrice`, and produce plots representing these relationships.\n",
    "\n",
    "#### 5. Engineer and Explore a New Feature\n",
    "\n",
    "Create a new feature `Age`, which represents the difference between the year sold and the year built, and plot the relationship between the age and sale price."
   ]
  },
  {
   "cell_type": "markdown",
   "metadata": {},
   "source": [
    "## 1. Load the Dataset with Pandas\n",
    "\n",
    "In the cell below, import:\n",
    "* `pandas` with the standard alias `pd`\n",
    "* `matplotlib.pyplot` with the standard alias `plt`\n",
    "\n",
    "And set `%matplotlib inline` so the graphs will display immediately below the cell that creates them."
   ]
  },
  {
   "cell_type": "code",
   "execution_count": 1,
   "metadata": {
    "scrolled": true
   },
   "outputs": [
    {
     "data": {
      "text/plain": [
       "['MSSubClass: Identifies the type of dwelling involved in the sale.\\t\\n',\n",
       " '\\n',\n",
       " '        20\\t1-STORY 1946 & NEWER ALL STYLES\\n',\n",
       " '        30\\t1-STORY 1945 & OLDER\\n',\n",
       " '        40\\t1-STORY W/FINISHED ATTIC ALL AGES\\n',\n",
       " '        45\\t1-1/2 STORY - UNFINISHED ALL AGES\\n',\n",
       " '        50\\t1-1/2 STORY FINISHED ALL AGES\\n',\n",
       " '        60\\t2-STORY 1946 & NEWER\\n',\n",
       " '        70\\t2-STORY 1945 & OLDER\\n',\n",
       " '        75\\t2-1/2 STORY ALL AGES\\n',\n",
       " '        80\\tSPLIT OR MULTI-LEVEL\\n',\n",
       " '        85\\tSPLIT FOYER\\n',\n",
       " '        90\\tDUPLEX - ALL STYLES AND AGES\\n',\n",
       " '       120\\t1-STORY PUD (Planned Unit Development) - 1946 & NEWER\\n',\n",
       " '       150\\t1-1/2 STORY PUD - ALL AGES\\n',\n",
       " '       160\\t2-STORY PUD - 1946 & NEWER\\n',\n",
       " '       180\\tPUD - MULTILEVEL - INCL SPLIT LEV/FOYER\\n',\n",
       " '       190\\t2 FAMILY CONVERSION - ALL STYLES AND AGES\\n',\n",
       " '\\n',\n",
       " 'MSZoning: Identifies the general zoning classification of the sale.\\n',\n",
       " '\\t\\t\\n',\n",
       " '       A\\tAgriculture\\n',\n",
       " '       C\\tCommercial\\n',\n",
       " '       FV\\tFloating Village Residential\\n',\n",
       " '       I\\tIndustrial\\n',\n",
       " '       RH\\tResidential High Density\\n',\n",
       " '       RL\\tResidential Low Density\\n',\n",
       " '       RP\\tResidential Low Density Park \\n',\n",
       " '       RM\\tResidential Medium Density\\n',\n",
       " '\\t\\n',\n",
       " 'LotFrontage: Linear feet of street connected to property\\n',\n",
       " '\\n',\n",
       " 'LotArea: Lot size in square feet\\n',\n",
       " '\\n',\n",
       " 'Street: Type of road access to property\\n',\n",
       " '\\n',\n",
       " '       Grvl\\tGravel\\t\\n',\n",
       " '       Pave\\tPaved\\n',\n",
       " '       \\t\\n',\n",
       " 'Alley: Type of alley access to property\\n',\n",
       " '\\n',\n",
       " '       Grvl\\tGravel\\n',\n",
       " '       Pave\\tPaved\\n',\n",
       " '       NA \\tNo alley access\\n',\n",
       " '\\t\\t\\n',\n",
       " 'LotShape: General shape of property\\n',\n",
       " '\\n',\n",
       " '       Reg\\tRegular\\t\\n',\n",
       " '       IR1\\tSlightly irregular\\n',\n",
       " '       IR2\\tModerately Irregular\\n',\n",
       " '       IR3\\tIrregular\\n',\n",
       " '       \\n',\n",
       " 'LandContour: Flatness of the property\\n',\n",
       " '\\n',\n",
       " '       Lvl\\tNear Flat/Level\\t\\n',\n",
       " '       Bnk\\tBanked - Quick and significant rise from street grade to building\\n',\n",
       " '       HLS\\tHillside - Significant slope from side to side\\n',\n",
       " '       Low\\tDepression\\n',\n",
       " '\\t\\t\\n',\n",
       " 'Utilities: Type of utilities available\\n',\n",
       " '\\t\\t\\n',\n",
       " '       AllPub\\tAll public Utilities (E,G,W,& S)\\t\\n',\n",
       " '       NoSewr\\tElectricity, Gas, and Water (Septic Tank)\\n',\n",
       " '       NoSeWa\\tElectricity and Gas Only\\n',\n",
       " '       ELO\\tElectricity only\\t\\n',\n",
       " '\\t\\n',\n",
       " 'LotConfig: Lot configuration\\n',\n",
       " '\\n',\n",
       " '       Inside\\tInside lot\\n',\n",
       " '       Corner\\tCorner lot\\n',\n",
       " '       CulDSac\\tCul-de-sac\\n',\n",
       " '       FR2\\tFrontage on 2 sides of property\\n',\n",
       " '       FR3\\tFrontage on 3 sides of property\\n',\n",
       " '\\t\\n',\n",
       " 'LandSlope: Slope of property\\n',\n",
       " '\\t\\t\\n',\n",
       " '       Gtl\\tGentle slope\\n',\n",
       " '       Mod\\tModerate Slope\\t\\n',\n",
       " '       Sev\\tSevere Slope\\n',\n",
       " '\\t\\n',\n",
       " 'Neighborhood: Physical locations within Ames city limits\\n',\n",
       " '\\n',\n",
       " '       Blmngtn\\tBloomington Heights\\n',\n",
       " '       Blueste\\tBluestem\\n',\n",
       " '       BrDale\\tBriardale\\n',\n",
       " '       BrkSide\\tBrookside\\n',\n",
       " '       ClearCr\\tClear Creek\\n',\n",
       " '       CollgCr\\tCollege Creek\\n',\n",
       " '       Crawfor\\tCrawford\\n',\n",
       " '       Edwards\\tEdwards\\n',\n",
       " '       Gilbert\\tGilbert\\n',\n",
       " '       IDOTRR\\tIowa DOT and Rail Road\\n',\n",
       " '       MeadowV\\tMeadow Village\\n',\n",
       " '       Mitchel\\tMitchell\\n',\n",
       " '       Names\\tNorth Ames\\n',\n",
       " '       NoRidge\\tNorthridge\\n',\n",
       " '       NPkVill\\tNorthpark Villa\\n',\n",
       " '       NridgHt\\tNorthridge Heights\\n',\n",
       " '       NWAmes\\tNorthwest Ames\\n',\n",
       " '       OldTown\\tOld Town\\n',\n",
       " '       SWISU\\tSouth & West of Iowa State University\\n',\n",
       " '       Sawyer\\tSawyer\\n',\n",
       " '       SawyerW\\tSawyer West\\n',\n",
       " '       Somerst\\tSomerset\\n',\n",
       " '       StoneBr\\tStone Brook\\n',\n",
       " '       Timber\\tTimberland\\n',\n",
       " '       Veenker\\tVeenker\\n',\n",
       " '\\t\\t\\t\\n',\n",
       " 'Condition1: Proximity to various conditions\\n',\n",
       " '\\t\\n',\n",
       " '       Artery\\tAdjacent to arterial street\\n',\n",
       " '       Feedr\\tAdjacent to feeder street\\t\\n',\n",
       " '       Norm\\tNormal\\t\\n',\n",
       " \"       RRNn\\tWithin 200' of North-South Railroad\\n\",\n",
       " '       RRAn\\tAdjacent to North-South Railroad\\n',\n",
       " '       PosN\\tNear positive off-site feature--park, greenbelt, etc.\\n',\n",
       " '       PosA\\tAdjacent to postive off-site feature\\n',\n",
       " \"       RRNe\\tWithin 200' of East-West Railroad\\n\",\n",
       " '       RRAe\\tAdjacent to East-West Railroad\\n',\n",
       " '\\t\\n',\n",
       " 'Condition2: Proximity to various conditions (if more than one is present)\\n',\n",
       " '\\t\\t\\n',\n",
       " '       Artery\\tAdjacent to arterial street\\n',\n",
       " '       Feedr\\tAdjacent to feeder street\\t\\n',\n",
       " '       Norm\\tNormal\\t\\n',\n",
       " \"       RRNn\\tWithin 200' of North-South Railroad\\n\",\n",
       " '       RRAn\\tAdjacent to North-South Railroad\\n',\n",
       " '       PosN\\tNear positive off-site feature--park, greenbelt, etc.\\n',\n",
       " '       PosA\\tAdjacent to postive off-site feature\\n',\n",
       " \"       RRNe\\tWithin 200' of East-West Railroad\\n\",\n",
       " '       RRAe\\tAdjacent to East-West Railroad\\n',\n",
       " '\\t\\n',\n",
       " 'BldgType: Type of dwelling\\n',\n",
       " '\\t\\t\\n',\n",
       " '       1Fam\\tSingle-family Detached\\t\\n',\n",
       " '       2FmCon\\tTwo-family Conversion; originally built as one-family dwelling\\n',\n",
       " '       Duplx\\tDuplex\\n',\n",
       " '       TwnhsE\\tTownhouse End Unit\\n',\n",
       " '       TwnhsI\\tTownhouse Inside Unit\\n',\n",
       " '\\t\\n',\n",
       " 'HouseStyle: Style of dwelling\\n',\n",
       " '\\t\\n',\n",
       " '       1Story\\tOne story\\n',\n",
       " '       1.5Fin\\tOne and one-half story: 2nd level finished\\n',\n",
       " '       1.5Unf\\tOne and one-half story: 2nd level unfinished\\n',\n",
       " '       2Story\\tTwo story\\n',\n",
       " '       2.5Fin\\tTwo and one-half story: 2nd level finished\\n',\n",
       " '       2.5Unf\\tTwo and one-half story: 2nd level unfinished\\n',\n",
       " '       SFoyer\\tSplit Foyer\\n',\n",
       " '       SLvl\\tSplit Level\\n',\n",
       " '\\t\\n',\n",
       " 'OverallQual: Rates the overall material and finish of the house\\n',\n",
       " '\\n',\n",
       " '       10\\tVery Excellent\\n',\n",
       " '       9\\tExcellent\\n',\n",
       " '       8\\tVery Good\\n',\n",
       " '       7\\tGood\\n',\n",
       " '       6\\tAbove Average\\n',\n",
       " '       5\\tAverage\\n',\n",
       " '       4\\tBelow Average\\n',\n",
       " '       3\\tFair\\n',\n",
       " '       2\\tPoor\\n',\n",
       " '       1\\tVery Poor\\n',\n",
       " '\\t\\n',\n",
       " 'OverallCond: Rates the overall condition of the house\\n',\n",
       " '\\n',\n",
       " '       10\\tVery Excellent\\n',\n",
       " '       9\\tExcellent\\n',\n",
       " '       8\\tVery Good\\n',\n",
       " '       7\\tGood\\n',\n",
       " '       6\\tAbove Average\\t\\n',\n",
       " '       5\\tAverage\\n',\n",
       " '       4\\tBelow Average\\t\\n',\n",
       " '       3\\tFair\\n',\n",
       " '       2\\tPoor\\n',\n",
       " '       1\\tVery Poor\\n',\n",
       " '\\t\\t\\n',\n",
       " 'YearBuilt: Original construction date\\n',\n",
       " '\\n',\n",
       " 'YearRemodAdd: Remodel date (same as construction date if no remodeling or additions)\\n',\n",
       " '\\n',\n",
       " 'RoofStyle: Type of roof\\n',\n",
       " '\\n',\n",
       " '       Flat\\tFlat\\n',\n",
       " '       Gable\\tGable\\n',\n",
       " '       Gambrel\\tGabrel (Barn)\\n',\n",
       " '       Hip\\tHip\\n',\n",
       " '       Mansard\\tMansard\\n',\n",
       " '       Shed\\tShed\\n',\n",
       " '\\t\\t\\n',\n",
       " 'RoofMatl: Roof material\\n',\n",
       " '\\n',\n",
       " '       ClyTile\\tClay or Tile\\n',\n",
       " '       CompShg\\tStandard (Composite) Shingle\\n',\n",
       " '       Membran\\tMembrane\\n',\n",
       " '       Metal\\tMetal\\n',\n",
       " '       Roll\\tRoll\\n',\n",
       " '       Tar&Grv\\tGravel & Tar\\n',\n",
       " '       WdShake\\tWood Shakes\\n',\n",
       " '       WdShngl\\tWood Shingles\\n',\n",
       " '\\t\\t\\n',\n",
       " 'Exterior1st: Exterior covering on house\\n',\n",
       " '\\n',\n",
       " '       AsbShng\\tAsbestos Shingles\\n',\n",
       " '       AsphShn\\tAsphalt Shingles\\n',\n",
       " '       BrkComm\\tBrick Common\\n',\n",
       " '       BrkFace\\tBrick Face\\n',\n",
       " '       CBlock\\tCinder Block\\n',\n",
       " '       CemntBd\\tCement Board\\n',\n",
       " '       HdBoard\\tHard Board\\n',\n",
       " '       ImStucc\\tImitation Stucco\\n',\n",
       " '       MetalSd\\tMetal Siding\\n',\n",
       " '       Other\\tOther\\n',\n",
       " '       Plywood\\tPlywood\\n',\n",
       " '       PreCast\\tPreCast\\t\\n',\n",
       " '       Stone\\tStone\\n',\n",
       " '       Stucco\\tStucco\\n',\n",
       " '       VinylSd\\tVinyl Siding\\n',\n",
       " '       Wd Sdng\\tWood Siding\\n',\n",
       " '       WdShing\\tWood Shingles\\n',\n",
       " '\\t\\n',\n",
       " 'Exterior2nd: Exterior covering on house (if more than one material)\\n',\n",
       " '\\n',\n",
       " '       AsbShng\\tAsbestos Shingles\\n',\n",
       " '       AsphShn\\tAsphalt Shingles\\n',\n",
       " '       BrkComm\\tBrick Common\\n',\n",
       " '       BrkFace\\tBrick Face\\n',\n",
       " '       CBlock\\tCinder Block\\n',\n",
       " '       CemntBd\\tCement Board\\n',\n",
       " '       HdBoard\\tHard Board\\n',\n",
       " '       ImStucc\\tImitation Stucco\\n',\n",
       " '       MetalSd\\tMetal Siding\\n',\n",
       " '       Other\\tOther\\n',\n",
       " '       Plywood\\tPlywood\\n',\n",
       " '       PreCast\\tPreCast\\n',\n",
       " '       Stone\\tStone\\n',\n",
       " '       Stucco\\tStucco\\n',\n",
       " '       VinylSd\\tVinyl Siding\\n',\n",
       " '       Wd Sdng\\tWood Siding\\n',\n",
       " '       WdShing\\tWood Shingles\\n',\n",
       " '\\t\\n',\n",
       " 'MasVnrType: Masonry veneer type\\n',\n",
       " '\\n',\n",
       " '       BrkCmn\\tBrick Common\\n',\n",
       " '       BrkFace\\tBrick Face\\n',\n",
       " '       CBlock\\tCinder Block\\n',\n",
       " '       None\\tNone\\n',\n",
       " '       Stone\\tStone\\n',\n",
       " '\\t\\n',\n",
       " 'MasVnrArea: Masonry veneer area in square feet\\n',\n",
       " '\\n',\n",
       " 'ExterQual: Evaluates the quality of the material on the exterior \\n',\n",
       " '\\t\\t\\n',\n",
       " '       Ex\\tExcellent\\n',\n",
       " '       Gd\\tGood\\n',\n",
       " '       TA\\tAverage/Typical\\n',\n",
       " '       Fa\\tFair\\n',\n",
       " '       Po\\tPoor\\n',\n",
       " '\\t\\t\\n',\n",
       " 'ExterCond: Evaluates the present condition of the material on the exterior\\n',\n",
       " '\\t\\t\\n',\n",
       " '       Ex\\tExcellent\\n',\n",
       " '       Gd\\tGood\\n',\n",
       " '       TA\\tAverage/Typical\\n',\n",
       " '       Fa\\tFair\\n',\n",
       " '       Po\\tPoor\\n',\n",
       " '\\t\\t\\n',\n",
       " 'Foundation: Type of foundation\\n',\n",
       " '\\t\\t\\n',\n",
       " '       BrkTil\\tBrick & Tile\\n',\n",
       " '       CBlock\\tCinder Block\\n',\n",
       " '       PConc\\tPoured Contrete\\t\\n',\n",
       " '       Slab\\tSlab\\n',\n",
       " '       Stone\\tStone\\n',\n",
       " '       Wood\\tWood\\n',\n",
       " '\\t\\t\\n',\n",
       " 'BsmtQual: Evaluates the height of the basement\\n',\n",
       " '\\n',\n",
       " '       Ex\\tExcellent (100+ inches)\\t\\n',\n",
       " '       Gd\\tGood (90-99 inches)\\n',\n",
       " '       TA\\tTypical (80-89 inches)\\n',\n",
       " '       Fa\\tFair (70-79 inches)\\n',\n",
       " '       Po\\tPoor (<70 inches\\n',\n",
       " '       NA\\tNo Basement\\n',\n",
       " '\\t\\t\\n',\n",
       " 'BsmtCond: Evaluates the general condition of the basement\\n',\n",
       " '\\n',\n",
       " '       Ex\\tExcellent\\n',\n",
       " '       Gd\\tGood\\n',\n",
       " '       TA\\tTypical - slight dampness allowed\\n',\n",
       " '       Fa\\tFair - dampness or some cracking or settling\\n',\n",
       " '       Po\\tPoor - Severe cracking, settling, or wetness\\n',\n",
       " '       NA\\tNo Basement\\n',\n",
       " '\\t\\n',\n",
       " 'BsmtExposure: Refers to walkout or garden level walls\\n',\n",
       " '\\n',\n",
       " '       Gd\\tGood Exposure\\n',\n",
       " '       Av\\tAverage Exposure (split levels or foyers typically score average or above)\\t\\n',\n",
       " '       Mn\\tMimimum Exposure\\n',\n",
       " '       No\\tNo Exposure\\n',\n",
       " '       NA\\tNo Basement\\n',\n",
       " '\\t\\n',\n",
       " 'BsmtFinType1: Rating of basement finished area\\n',\n",
       " '\\n',\n",
       " '       GLQ\\tGood Living Quarters\\n',\n",
       " '       ALQ\\tAverage Living Quarters\\n',\n",
       " '       BLQ\\tBelow Average Living Quarters\\t\\n',\n",
       " '       Rec\\tAverage Rec Room\\n',\n",
       " '       LwQ\\tLow Quality\\n',\n",
       " '       Unf\\tUnfinshed\\n',\n",
       " '       NA\\tNo Basement\\n',\n",
       " '\\t\\t\\n',\n",
       " 'BsmtFinSF1: Type 1 finished square feet\\n',\n",
       " '\\n',\n",
       " 'BsmtFinType2: Rating of basement finished area (if multiple types)\\n',\n",
       " '\\n',\n",
       " '       GLQ\\tGood Living Quarters\\n',\n",
       " '       ALQ\\tAverage Living Quarters\\n',\n",
       " '       BLQ\\tBelow Average Living Quarters\\t\\n',\n",
       " '       Rec\\tAverage Rec Room\\n',\n",
       " '       LwQ\\tLow Quality\\n',\n",
       " '       Unf\\tUnfinshed\\n',\n",
       " '       NA\\tNo Basement\\n',\n",
       " '\\n',\n",
       " 'BsmtFinSF2: Type 2 finished square feet\\n',\n",
       " '\\n',\n",
       " 'BsmtUnfSF: Unfinished square feet of basement area\\n',\n",
       " '\\n',\n",
       " 'TotalBsmtSF: Total square feet of basement area\\n',\n",
       " '\\n',\n",
       " 'Heating: Type of heating\\n',\n",
       " '\\t\\t\\n',\n",
       " '       Floor\\tFloor Furnace\\n',\n",
       " '       GasA\\tGas forced warm air furnace\\n',\n",
       " '       GasW\\tGas hot water or steam heat\\n',\n",
       " '       Grav\\tGravity furnace\\t\\n',\n",
       " '       OthW\\tHot water or steam heat other than gas\\n',\n",
       " '       Wall\\tWall furnace\\n',\n",
       " '\\t\\t\\n',\n",
       " 'HeatingQC: Heating quality and condition\\n',\n",
       " '\\n',\n",
       " '       Ex\\tExcellent\\n',\n",
       " '       Gd\\tGood\\n',\n",
       " '       TA\\tAverage/Typical\\n',\n",
       " '       Fa\\tFair\\n',\n",
       " '       Po\\tPoor\\n',\n",
       " '\\t\\t\\n',\n",
       " 'CentralAir: Central air conditioning\\n',\n",
       " '\\n',\n",
       " '       N\\tNo\\n',\n",
       " '       Y\\tYes\\n',\n",
       " '\\t\\t\\n',\n",
       " 'Electrical: Electrical system\\n',\n",
       " '\\n',\n",
       " '       SBrkr\\tStandard Circuit Breakers & Romex\\n',\n",
       " '       FuseA\\tFuse Box over 60 AMP and all Romex wiring (Average)\\t\\n',\n",
       " '       FuseF\\t60 AMP Fuse Box and mostly Romex wiring (Fair)\\n',\n",
       " '       FuseP\\t60 AMP Fuse Box and mostly knob & tube wiring (poor)\\n',\n",
       " '       Mix\\tMixed\\n',\n",
       " '\\t\\t\\n',\n",
       " '1stFlrSF: First Floor square feet\\n',\n",
       " ' \\n',\n",
       " '2ndFlrSF: Second floor square feet\\n',\n",
       " '\\n',\n",
       " 'LowQualFinSF: Low quality finished square feet (all floors)\\n',\n",
       " '\\n',\n",
       " 'GrLivArea: Above grade (ground) living area square feet\\n',\n",
       " '\\n',\n",
       " 'BsmtFullBath: Basement full bathrooms\\n',\n",
       " '\\n',\n",
       " 'BsmtHalfBath: Basement half bathrooms\\n',\n",
       " '\\n',\n",
       " 'FullBath: Full bathrooms above grade\\n',\n",
       " '\\n',\n",
       " 'HalfBath: Half baths above grade\\n',\n",
       " '\\n',\n",
       " 'Bedroom: Bedrooms above grade (does NOT include basement bedrooms)\\n',\n",
       " '\\n',\n",
       " 'KitchenAbvGr: Kitchens above grade\\n',\n",
       " '\\n',\n",
       " 'KitchenQual: Kitchen quality\\n',\n",
       " '\\n',\n",
       " '       Ex\\tExcellent\\n',\n",
       " '       Gd\\tGood\\n',\n",
       " '       TA\\tTypical/Average\\n',\n",
       " '       Fa\\tFair\\n',\n",
       " '       Po\\tPoor\\n',\n",
       " '       \\t\\n',\n",
       " 'TotRmsAbvGrd: Total rooms above grade (does not include bathrooms)\\n',\n",
       " '\\n',\n",
       " 'Functional: Home functionality (Assume typical unless deductions are warranted)\\n',\n",
       " '\\n',\n",
       " '       Typ\\tTypical Functionality\\n',\n",
       " '       Min1\\tMinor Deductions 1\\n',\n",
       " '       Min2\\tMinor Deductions 2\\n',\n",
       " '       Mod\\tModerate Deductions\\n',\n",
       " '       Maj1\\tMajor Deductions 1\\n',\n",
       " '       Maj2\\tMajor Deductions 2\\n',\n",
       " '       Sev\\tSeverely Damaged\\n',\n",
       " '       Sal\\tSalvage only\\n',\n",
       " '\\t\\t\\n',\n",
       " 'Fireplaces: Number of fireplaces\\n',\n",
       " '\\n',\n",
       " 'FireplaceQu: Fireplace quality\\n',\n",
       " '\\n',\n",
       " '       Ex\\tExcellent - Exceptional Masonry Fireplace\\n',\n",
       " '       Gd\\tGood - Masonry Fireplace in main level\\n',\n",
       " '       TA\\tAverage - Prefabricated Fireplace in main living area or Masonry Fireplace in basement\\n',\n",
       " '       Fa\\tFair - Prefabricated Fireplace in basement\\n',\n",
       " '       Po\\tPoor - Ben Franklin Stove\\n',\n",
       " '       NA\\tNo Fireplace\\n',\n",
       " '\\t\\t\\n',\n",
       " 'GarageType: Garage location\\n',\n",
       " '\\t\\t\\n',\n",
       " '       2Types\\tMore than one type of garage\\n',\n",
       " '       Attchd\\tAttached to home\\n',\n",
       " '       Basment\\tBasement Garage\\n',\n",
       " '       BuiltIn\\tBuilt-In (Garage part of house - typically has room above garage)\\n',\n",
       " '       CarPort\\tCar Port\\n',\n",
       " '       Detchd\\tDetached from home\\n',\n",
       " '       NA\\tNo Garage\\n',\n",
       " '\\t\\t\\n',\n",
       " 'GarageYrBlt: Year garage was built\\n',\n",
       " '\\t\\t\\n',\n",
       " 'GarageFinish: Interior finish of the garage\\n',\n",
       " '\\n',\n",
       " '       Fin\\tFinished\\n',\n",
       " '       RFn\\tRough Finished\\t\\n',\n",
       " '       Unf\\tUnfinished\\n',\n",
       " '       NA\\tNo Garage\\n',\n",
       " '\\t\\t\\n',\n",
       " 'GarageCars: Size of garage in car capacity\\n',\n",
       " '\\n',\n",
       " 'GarageArea: Size of garage in square feet\\n',\n",
       " '\\n',\n",
       " 'GarageQual: Garage quality\\n',\n",
       " '\\n',\n",
       " '       Ex\\tExcellent\\n',\n",
       " '       Gd\\tGood\\n',\n",
       " '       TA\\tTypical/Average\\n',\n",
       " '       Fa\\tFair\\n',\n",
       " '       Po\\tPoor\\n',\n",
       " '       NA\\tNo Garage\\n',\n",
       " '\\t\\t\\n',\n",
       " 'GarageCond: Garage condition\\n',\n",
       " '\\n',\n",
       " '       Ex\\tExcellent\\n',\n",
       " '       Gd\\tGood\\n',\n",
       " '       TA\\tTypical/Average\\n',\n",
       " '       Fa\\tFair\\n',\n",
       " '       Po\\tPoor\\n',\n",
       " '       NA\\tNo Garage\\n',\n",
       " '\\t\\t\\n',\n",
       " 'PavedDrive: Paved driveway\\n',\n",
       " '\\n',\n",
       " '       Y\\tPaved \\n',\n",
       " '       P\\tPartial Pavement\\n',\n",
       " '       N\\tDirt/Gravel\\n',\n",
       " '\\t\\t\\n',\n",
       " 'WoodDeckSF: Wood deck area in square feet\\n',\n",
       " '\\n',\n",
       " 'OpenPorchSF: Open porch area in square feet\\n',\n",
       " '\\n',\n",
       " 'EnclosedPorch: Enclosed porch area in square feet\\n',\n",
       " '\\n',\n",
       " '3SsnPorch: Three season porch area in square feet\\n',\n",
       " '\\n',\n",
       " 'ScreenPorch: Screen porch area in square feet\\n',\n",
       " '\\n',\n",
       " 'PoolArea: Pool area in square feet\\n',\n",
       " '\\n',\n",
       " 'PoolQC: Pool quality\\n',\n",
       " '\\t\\t\\n',\n",
       " '       Ex\\tExcellent\\n',\n",
       " '       Gd\\tGood\\n',\n",
       " '       TA\\tAverage/Typical\\n',\n",
       " '       Fa\\tFair\\n',\n",
       " '       NA\\tNo Pool\\n',\n",
       " '\\t\\t\\n',\n",
       " 'Fence: Fence quality\\n',\n",
       " '\\t\\t\\n',\n",
       " '       GdPrv\\tGood Privacy\\n',\n",
       " '       MnPrv\\tMinimum Privacy\\n',\n",
       " '       GdWo\\tGood Wood\\n',\n",
       " '       MnWw\\tMinimum Wood/Wire\\n',\n",
       " '       NA\\tNo Fence\\n',\n",
       " '\\t\\n',\n",
       " 'MiscFeature: Miscellaneous feature not covered in other categories\\n',\n",
       " '\\t\\t\\n',\n",
       " '       Elev\\tElevator\\n',\n",
       " '       Gar2\\t2nd Garage (if not described in garage section)\\n',\n",
       " '       Othr\\tOther\\n',\n",
       " '       Shed\\tShed (over 100 SF)\\n',\n",
       " '       TenC\\tTennis Court\\n',\n",
       " '       NA\\tNone\\n',\n",
       " '\\t\\t\\n',\n",
       " 'MiscVal: $Value of miscellaneous feature\\n',\n",
       " '\\n',\n",
       " 'MoSold: Month Sold (MM)\\n',\n",
       " '\\n',\n",
       " 'YrSold: Year Sold (YYYY)\\n',\n",
       " '\\n',\n",
       " 'SaleType: Type of sale\\n',\n",
       " '\\t\\t\\n',\n",
       " '       WD \\tWarranty Deed - Conventional\\n',\n",
       " '       CWD\\tWarranty Deed - Cash\\n',\n",
       " '       VWD\\tWarranty Deed - VA Loan\\n',\n",
       " '       New\\tHome just constructed and sold\\n',\n",
       " '       COD\\tCourt Officer Deed/Estate\\n',\n",
       " '       Con\\tContract 15% Down payment regular terms\\n',\n",
       " '       ConLw\\tContract Low Down payment and low interest\\n',\n",
       " '       ConLI\\tContract Low Interest\\n',\n",
       " '       ConLD\\tContract Low Down\\n',\n",
       " '       Oth\\tOther\\n',\n",
       " '\\t\\t\\n',\n",
       " 'SaleCondition: Condition of sale\\n',\n",
       " '\\n',\n",
       " '       Normal\\tNormal Sale\\n',\n",
       " '       Abnorml\\tAbnormal Sale -  trade, foreclosure, short sale\\n',\n",
       " '       AdjLand\\tAdjoining Land Purchase\\n',\n",
       " '       Alloca\\tAllocation - two linked properties with separate deeds, typically condo with a garage unit\\t\\n',\n",
       " '       Family\\tSale between family members\\n',\n",
       " '       Partial\\tHome was not completed when last assessed (associated with New Homes)\\n']"
      ]
     },
     "execution_count": 1,
     "metadata": {},
     "output_type": "execute_result"
    }
   ],
   "source": [
    "with open('data/data_description.txt') as f:\n",
    "    data = list(f.readlines())\n",
    "data"
   ]
  },
  {
   "cell_type": "code",
   "execution_count": 3,
   "metadata": {},
   "outputs": [],
   "source": [
    "# Your code here\n",
    "import pandas as pd\n",
    "import matplotlib.pyplot as plt\n",
    "%matplotlib inline"
   ]
  },
  {
   "cell_type": "markdown",
   "metadata": {},
   "source": [
    "Now, use pandas to open the file located at `data/ames.csv` ([documentation here](https://pandas.pydata.org/pandas-docs/stable/reference/api/pandas.read_csv.html)). Specify the argument `index_col=0` in order to avoid creating an extra `Id` column. Name the resulting dataframe `df`."
   ]
  },
  {
   "cell_type": "code",
   "execution_count": 4,
   "metadata": {},
   "outputs": [],
   "source": [
    "# Your code here\n",
    "df = pd.read_csv('data/ames.csv', index_col=0)"
   ]
  },
  {
   "cell_type": "markdown",
   "metadata": {},
   "source": [
    "The following code checks that you loaded the data correctly:"
   ]
  },
  {
   "cell_type": "code",
   "execution_count": 5,
   "metadata": {},
   "outputs": [],
   "source": [
    "# Run this cell without changes\n",
    "\n",
    "# Check that df is a dataframe\n",
    "assert type(df) == pd.DataFrame\n",
    "\n",
    "# Check that there are the correct number of rows\n",
    "assert df.shape[0] == 1460\n",
    "\n",
    "# Check that there are the correct number of columns\n",
    "# (if this crashes, make sure you specified `index_col=0`)\n",
    "assert df.shape[1] == 80"
   ]
  },
  {
   "cell_type": "markdown",
   "metadata": {},
   "source": [
    "Inspect the contents of the dataframe:"
   ]
  },
  {
   "cell_type": "code",
   "execution_count": 6,
   "metadata": {},
   "outputs": [
    {
     "data": {
      "text/html": [
       "<div>\n",
       "<style scoped>\n",
       "    .dataframe tbody tr th:only-of-type {\n",
       "        vertical-align: middle;\n",
       "    }\n",
       "\n",
       "    .dataframe tbody tr th {\n",
       "        vertical-align: top;\n",
       "    }\n",
       "\n",
       "    .dataframe thead th {\n",
       "        text-align: right;\n",
       "    }\n",
       "</style>\n",
       "<table border=\"1\" class=\"dataframe\">\n",
       "  <thead>\n",
       "    <tr style=\"text-align: right;\">\n",
       "      <th></th>\n",
       "      <th>MSSubClass</th>\n",
       "      <th>MSZoning</th>\n",
       "      <th>LotFrontage</th>\n",
       "      <th>LotArea</th>\n",
       "      <th>Street</th>\n",
       "      <th>Alley</th>\n",
       "      <th>LotShape</th>\n",
       "      <th>LandContour</th>\n",
       "      <th>Utilities</th>\n",
       "      <th>LotConfig</th>\n",
       "      <th>...</th>\n",
       "      <th>PoolArea</th>\n",
       "      <th>PoolQC</th>\n",
       "      <th>Fence</th>\n",
       "      <th>MiscFeature</th>\n",
       "      <th>MiscVal</th>\n",
       "      <th>MoSold</th>\n",
       "      <th>YrSold</th>\n",
       "      <th>SaleType</th>\n",
       "      <th>SaleCondition</th>\n",
       "      <th>SalePrice</th>\n",
       "    </tr>\n",
       "    <tr>\n",
       "      <th>Id</th>\n",
       "      <th></th>\n",
       "      <th></th>\n",
       "      <th></th>\n",
       "      <th></th>\n",
       "      <th></th>\n",
       "      <th></th>\n",
       "      <th></th>\n",
       "      <th></th>\n",
       "      <th></th>\n",
       "      <th></th>\n",
       "      <th></th>\n",
       "      <th></th>\n",
       "      <th></th>\n",
       "      <th></th>\n",
       "      <th></th>\n",
       "      <th></th>\n",
       "      <th></th>\n",
       "      <th></th>\n",
       "      <th></th>\n",
       "      <th></th>\n",
       "      <th></th>\n",
       "    </tr>\n",
       "  </thead>\n",
       "  <tbody>\n",
       "    <tr>\n",
       "      <th>1</th>\n",
       "      <td>60</td>\n",
       "      <td>RL</td>\n",
       "      <td>65.0</td>\n",
       "      <td>8450</td>\n",
       "      <td>Pave</td>\n",
       "      <td>NaN</td>\n",
       "      <td>Reg</td>\n",
       "      <td>Lvl</td>\n",
       "      <td>AllPub</td>\n",
       "      <td>Inside</td>\n",
       "      <td>...</td>\n",
       "      <td>0</td>\n",
       "      <td>NaN</td>\n",
       "      <td>NaN</td>\n",
       "      <td>NaN</td>\n",
       "      <td>0</td>\n",
       "      <td>2</td>\n",
       "      <td>2008</td>\n",
       "      <td>WD</td>\n",
       "      <td>Normal</td>\n",
       "      <td>208500</td>\n",
       "    </tr>\n",
       "    <tr>\n",
       "      <th>2</th>\n",
       "      <td>20</td>\n",
       "      <td>RL</td>\n",
       "      <td>80.0</td>\n",
       "      <td>9600</td>\n",
       "      <td>Pave</td>\n",
       "      <td>NaN</td>\n",
       "      <td>Reg</td>\n",
       "      <td>Lvl</td>\n",
       "      <td>AllPub</td>\n",
       "      <td>FR2</td>\n",
       "      <td>...</td>\n",
       "      <td>0</td>\n",
       "      <td>NaN</td>\n",
       "      <td>NaN</td>\n",
       "      <td>NaN</td>\n",
       "      <td>0</td>\n",
       "      <td>5</td>\n",
       "      <td>2007</td>\n",
       "      <td>WD</td>\n",
       "      <td>Normal</td>\n",
       "      <td>181500</td>\n",
       "    </tr>\n",
       "    <tr>\n",
       "      <th>3</th>\n",
       "      <td>60</td>\n",
       "      <td>RL</td>\n",
       "      <td>68.0</td>\n",
       "      <td>11250</td>\n",
       "      <td>Pave</td>\n",
       "      <td>NaN</td>\n",
       "      <td>IR1</td>\n",
       "      <td>Lvl</td>\n",
       "      <td>AllPub</td>\n",
       "      <td>Inside</td>\n",
       "      <td>...</td>\n",
       "      <td>0</td>\n",
       "      <td>NaN</td>\n",
       "      <td>NaN</td>\n",
       "      <td>NaN</td>\n",
       "      <td>0</td>\n",
       "      <td>9</td>\n",
       "      <td>2008</td>\n",
       "      <td>WD</td>\n",
       "      <td>Normal</td>\n",
       "      <td>223500</td>\n",
       "    </tr>\n",
       "    <tr>\n",
       "      <th>4</th>\n",
       "      <td>70</td>\n",
       "      <td>RL</td>\n",
       "      <td>60.0</td>\n",
       "      <td>9550</td>\n",
       "      <td>Pave</td>\n",
       "      <td>NaN</td>\n",
       "      <td>IR1</td>\n",
       "      <td>Lvl</td>\n",
       "      <td>AllPub</td>\n",
       "      <td>Corner</td>\n",
       "      <td>...</td>\n",
       "      <td>0</td>\n",
       "      <td>NaN</td>\n",
       "      <td>NaN</td>\n",
       "      <td>NaN</td>\n",
       "      <td>0</td>\n",
       "      <td>2</td>\n",
       "      <td>2006</td>\n",
       "      <td>WD</td>\n",
       "      <td>Abnorml</td>\n",
       "      <td>140000</td>\n",
       "    </tr>\n",
       "    <tr>\n",
       "      <th>5</th>\n",
       "      <td>60</td>\n",
       "      <td>RL</td>\n",
       "      <td>84.0</td>\n",
       "      <td>14260</td>\n",
       "      <td>Pave</td>\n",
       "      <td>NaN</td>\n",
       "      <td>IR1</td>\n",
       "      <td>Lvl</td>\n",
       "      <td>AllPub</td>\n",
       "      <td>FR2</td>\n",
       "      <td>...</td>\n",
       "      <td>0</td>\n",
       "      <td>NaN</td>\n",
       "      <td>NaN</td>\n",
       "      <td>NaN</td>\n",
       "      <td>0</td>\n",
       "      <td>12</td>\n",
       "      <td>2008</td>\n",
       "      <td>WD</td>\n",
       "      <td>Normal</td>\n",
       "      <td>250000</td>\n",
       "    </tr>\n",
       "    <tr>\n",
       "      <th>...</th>\n",
       "      <td>...</td>\n",
       "      <td>...</td>\n",
       "      <td>...</td>\n",
       "      <td>...</td>\n",
       "      <td>...</td>\n",
       "      <td>...</td>\n",
       "      <td>...</td>\n",
       "      <td>...</td>\n",
       "      <td>...</td>\n",
       "      <td>...</td>\n",
       "      <td>...</td>\n",
       "      <td>...</td>\n",
       "      <td>...</td>\n",
       "      <td>...</td>\n",
       "      <td>...</td>\n",
       "      <td>...</td>\n",
       "      <td>...</td>\n",
       "      <td>...</td>\n",
       "      <td>...</td>\n",
       "      <td>...</td>\n",
       "      <td>...</td>\n",
       "    </tr>\n",
       "    <tr>\n",
       "      <th>1456</th>\n",
       "      <td>60</td>\n",
       "      <td>RL</td>\n",
       "      <td>62.0</td>\n",
       "      <td>7917</td>\n",
       "      <td>Pave</td>\n",
       "      <td>NaN</td>\n",
       "      <td>Reg</td>\n",
       "      <td>Lvl</td>\n",
       "      <td>AllPub</td>\n",
       "      <td>Inside</td>\n",
       "      <td>...</td>\n",
       "      <td>0</td>\n",
       "      <td>NaN</td>\n",
       "      <td>NaN</td>\n",
       "      <td>NaN</td>\n",
       "      <td>0</td>\n",
       "      <td>8</td>\n",
       "      <td>2007</td>\n",
       "      <td>WD</td>\n",
       "      <td>Normal</td>\n",
       "      <td>175000</td>\n",
       "    </tr>\n",
       "    <tr>\n",
       "      <th>1457</th>\n",
       "      <td>20</td>\n",
       "      <td>RL</td>\n",
       "      <td>85.0</td>\n",
       "      <td>13175</td>\n",
       "      <td>Pave</td>\n",
       "      <td>NaN</td>\n",
       "      <td>Reg</td>\n",
       "      <td>Lvl</td>\n",
       "      <td>AllPub</td>\n",
       "      <td>Inside</td>\n",
       "      <td>...</td>\n",
       "      <td>0</td>\n",
       "      <td>NaN</td>\n",
       "      <td>MnPrv</td>\n",
       "      <td>NaN</td>\n",
       "      <td>0</td>\n",
       "      <td>2</td>\n",
       "      <td>2010</td>\n",
       "      <td>WD</td>\n",
       "      <td>Normal</td>\n",
       "      <td>210000</td>\n",
       "    </tr>\n",
       "    <tr>\n",
       "      <th>1458</th>\n",
       "      <td>70</td>\n",
       "      <td>RL</td>\n",
       "      <td>66.0</td>\n",
       "      <td>9042</td>\n",
       "      <td>Pave</td>\n",
       "      <td>NaN</td>\n",
       "      <td>Reg</td>\n",
       "      <td>Lvl</td>\n",
       "      <td>AllPub</td>\n",
       "      <td>Inside</td>\n",
       "      <td>...</td>\n",
       "      <td>0</td>\n",
       "      <td>NaN</td>\n",
       "      <td>GdPrv</td>\n",
       "      <td>Shed</td>\n",
       "      <td>2500</td>\n",
       "      <td>5</td>\n",
       "      <td>2010</td>\n",
       "      <td>WD</td>\n",
       "      <td>Normal</td>\n",
       "      <td>266500</td>\n",
       "    </tr>\n",
       "    <tr>\n",
       "      <th>1459</th>\n",
       "      <td>20</td>\n",
       "      <td>RL</td>\n",
       "      <td>68.0</td>\n",
       "      <td>9717</td>\n",
       "      <td>Pave</td>\n",
       "      <td>NaN</td>\n",
       "      <td>Reg</td>\n",
       "      <td>Lvl</td>\n",
       "      <td>AllPub</td>\n",
       "      <td>Inside</td>\n",
       "      <td>...</td>\n",
       "      <td>0</td>\n",
       "      <td>NaN</td>\n",
       "      <td>NaN</td>\n",
       "      <td>NaN</td>\n",
       "      <td>0</td>\n",
       "      <td>4</td>\n",
       "      <td>2010</td>\n",
       "      <td>WD</td>\n",
       "      <td>Normal</td>\n",
       "      <td>142125</td>\n",
       "    </tr>\n",
       "    <tr>\n",
       "      <th>1460</th>\n",
       "      <td>20</td>\n",
       "      <td>RL</td>\n",
       "      <td>75.0</td>\n",
       "      <td>9937</td>\n",
       "      <td>Pave</td>\n",
       "      <td>NaN</td>\n",
       "      <td>Reg</td>\n",
       "      <td>Lvl</td>\n",
       "      <td>AllPub</td>\n",
       "      <td>Inside</td>\n",
       "      <td>...</td>\n",
       "      <td>0</td>\n",
       "      <td>NaN</td>\n",
       "      <td>NaN</td>\n",
       "      <td>NaN</td>\n",
       "      <td>0</td>\n",
       "      <td>6</td>\n",
       "      <td>2008</td>\n",
       "      <td>WD</td>\n",
       "      <td>Normal</td>\n",
       "      <td>147500</td>\n",
       "    </tr>\n",
       "  </tbody>\n",
       "</table>\n",
       "<p>1460 rows × 80 columns</p>\n",
       "</div>"
      ],
      "text/plain": [
       "      MSSubClass MSZoning  LotFrontage  LotArea Street Alley LotShape  \\\n",
       "Id                                                                      \n",
       "1             60       RL         65.0     8450   Pave   NaN      Reg   \n",
       "2             20       RL         80.0     9600   Pave   NaN      Reg   \n",
       "3             60       RL         68.0    11250   Pave   NaN      IR1   \n",
       "4             70       RL         60.0     9550   Pave   NaN      IR1   \n",
       "5             60       RL         84.0    14260   Pave   NaN      IR1   \n",
       "...          ...      ...          ...      ...    ...   ...      ...   \n",
       "1456          60       RL         62.0     7917   Pave   NaN      Reg   \n",
       "1457          20       RL         85.0    13175   Pave   NaN      Reg   \n",
       "1458          70       RL         66.0     9042   Pave   NaN      Reg   \n",
       "1459          20       RL         68.0     9717   Pave   NaN      Reg   \n",
       "1460          20       RL         75.0     9937   Pave   NaN      Reg   \n",
       "\n",
       "     LandContour Utilities LotConfig  ... PoolArea PoolQC  Fence MiscFeature  \\\n",
       "Id                                    ...                                      \n",
       "1            Lvl    AllPub    Inside  ...        0    NaN    NaN         NaN   \n",
       "2            Lvl    AllPub       FR2  ...        0    NaN    NaN         NaN   \n",
       "3            Lvl    AllPub    Inside  ...        0    NaN    NaN         NaN   \n",
       "4            Lvl    AllPub    Corner  ...        0    NaN    NaN         NaN   \n",
       "5            Lvl    AllPub       FR2  ...        0    NaN    NaN         NaN   \n",
       "...          ...       ...       ...  ...      ...    ...    ...         ...   \n",
       "1456         Lvl    AllPub    Inside  ...        0    NaN    NaN         NaN   \n",
       "1457         Lvl    AllPub    Inside  ...        0    NaN  MnPrv         NaN   \n",
       "1458         Lvl    AllPub    Inside  ...        0    NaN  GdPrv        Shed   \n",
       "1459         Lvl    AllPub    Inside  ...        0    NaN    NaN         NaN   \n",
       "1460         Lvl    AllPub    Inside  ...        0    NaN    NaN         NaN   \n",
       "\n",
       "     MiscVal MoSold  YrSold  SaleType  SaleCondition  SalePrice  \n",
       "Id                                                               \n",
       "1          0      2    2008        WD         Normal     208500  \n",
       "2          0      5    2007        WD         Normal     181500  \n",
       "3          0      9    2008        WD         Normal     223500  \n",
       "4          0      2    2006        WD        Abnorml     140000  \n",
       "5          0     12    2008        WD         Normal     250000  \n",
       "...      ...    ...     ...       ...            ...        ...  \n",
       "1456       0      8    2007        WD         Normal     175000  \n",
       "1457       0      2    2010        WD         Normal     210000  \n",
       "1458    2500      5    2010        WD         Normal     266500  \n",
       "1459       0      4    2010        WD         Normal     142125  \n",
       "1460       0      6    2008        WD         Normal     147500  \n",
       "\n",
       "[1460 rows x 80 columns]"
      ]
     },
     "execution_count": 6,
     "metadata": {},
     "output_type": "execute_result"
    }
   ],
   "source": [
    "# Run this cell without changes\n",
    "df"
   ]
  },
  {
   "cell_type": "code",
   "execution_count": 7,
   "metadata": {},
   "outputs": [
    {
     "name": "stdout",
     "output_type": "stream",
     "text": [
      "<class 'pandas.core.frame.DataFrame'>\n",
      "Int64Index: 1460 entries, 1 to 1460\n",
      "Data columns (total 80 columns):\n",
      " #   Column         Non-Null Count  Dtype  \n",
      "---  ------         --------------  -----  \n",
      " 0   MSSubClass     1460 non-null   int64  \n",
      " 1   MSZoning       1460 non-null   object \n",
      " 2   LotFrontage    1201 non-null   float64\n",
      " 3   LotArea        1460 non-null   int64  \n",
      " 4   Street         1460 non-null   object \n",
      " 5   Alley          91 non-null     object \n",
      " 6   LotShape       1460 non-null   object \n",
      " 7   LandContour    1460 non-null   object \n",
      " 8   Utilities      1460 non-null   object \n",
      " 9   LotConfig      1460 non-null   object \n",
      " 10  LandSlope      1460 non-null   object \n",
      " 11  Neighborhood   1460 non-null   object \n",
      " 12  Condition1     1460 non-null   object \n",
      " 13  Condition2     1460 non-null   object \n",
      " 14  BldgType       1460 non-null   object \n",
      " 15  HouseStyle     1460 non-null   object \n",
      " 16  OverallQual    1460 non-null   int64  \n",
      " 17  OverallCond    1460 non-null   int64  \n",
      " 18  YearBuilt      1460 non-null   int64  \n",
      " 19  YearRemodAdd   1460 non-null   int64  \n",
      " 20  RoofStyle      1460 non-null   object \n",
      " 21  RoofMatl       1460 non-null   object \n",
      " 22  Exterior1st    1460 non-null   object \n",
      " 23  Exterior2nd    1460 non-null   object \n",
      " 24  MasVnrType     1452 non-null   object \n",
      " 25  MasVnrArea     1452 non-null   float64\n",
      " 26  ExterQual      1460 non-null   object \n",
      " 27  ExterCond      1460 non-null   object \n",
      " 28  Foundation     1460 non-null   object \n",
      " 29  BsmtQual       1423 non-null   object \n",
      " 30  BsmtCond       1423 non-null   object \n",
      " 31  BsmtExposure   1422 non-null   object \n",
      " 32  BsmtFinType1   1423 non-null   object \n",
      " 33  BsmtFinSF1     1460 non-null   int64  \n",
      " 34  BsmtFinType2   1422 non-null   object \n",
      " 35  BsmtFinSF2     1460 non-null   int64  \n",
      " 36  BsmtUnfSF      1460 non-null   int64  \n",
      " 37  TotalBsmtSF    1460 non-null   int64  \n",
      " 38  Heating        1460 non-null   object \n",
      " 39  HeatingQC      1460 non-null   object \n",
      " 40  CentralAir     1460 non-null   object \n",
      " 41  Electrical     1459 non-null   object \n",
      " 42  1stFlrSF       1460 non-null   int64  \n",
      " 43  2ndFlrSF       1460 non-null   int64  \n",
      " 44  LowQualFinSF   1460 non-null   int64  \n",
      " 45  GrLivArea      1460 non-null   int64  \n",
      " 46  BsmtFullBath   1460 non-null   int64  \n",
      " 47  BsmtHalfBath   1460 non-null   int64  \n",
      " 48  FullBath       1460 non-null   int64  \n",
      " 49  HalfBath       1460 non-null   int64  \n",
      " 50  BedroomAbvGr   1460 non-null   int64  \n",
      " 51  KitchenAbvGr   1460 non-null   int64  \n",
      " 52  KitchenQual    1460 non-null   object \n",
      " 53  TotRmsAbvGrd   1460 non-null   int64  \n",
      " 54  Functional     1460 non-null   object \n",
      " 55  Fireplaces     1460 non-null   int64  \n",
      " 56  FireplaceQu    770 non-null    object \n",
      " 57  GarageType     1379 non-null   object \n",
      " 58  GarageYrBlt    1379 non-null   float64\n",
      " 59  GarageFinish   1379 non-null   object \n",
      " 60  GarageCars     1460 non-null   int64  \n",
      " 61  GarageArea     1460 non-null   int64  \n",
      " 62  GarageQual     1379 non-null   object \n",
      " 63  GarageCond     1379 non-null   object \n",
      " 64  PavedDrive     1460 non-null   object \n",
      " 65  WoodDeckSF     1460 non-null   int64  \n",
      " 66  OpenPorchSF    1460 non-null   int64  \n",
      " 67  EnclosedPorch  1460 non-null   int64  \n",
      " 68  3SsnPorch      1460 non-null   int64  \n",
      " 69  ScreenPorch    1460 non-null   int64  \n",
      " 70  PoolArea       1460 non-null   int64  \n",
      " 71  PoolQC         7 non-null      object \n",
      " 72  Fence          281 non-null    object \n",
      " 73  MiscFeature    54 non-null     object \n",
      " 74  MiscVal        1460 non-null   int64  \n",
      " 75  MoSold         1460 non-null   int64  \n",
      " 76  YrSold         1460 non-null   int64  \n",
      " 77  SaleType       1460 non-null   object \n",
      " 78  SaleCondition  1460 non-null   object \n",
      " 79  SalePrice      1460 non-null   int64  \n",
      "dtypes: float64(3), int64(34), object(43)\n",
      "memory usage: 923.9+ KB\n"
     ]
    }
   ],
   "source": [
    "# Run this cell without changes\n",
    "df.info()"
   ]
  },
  {
   "cell_type": "markdown",
   "metadata": {},
   "source": [
    "## 2. Explore Data Distributions\n",
    "\n",
    "Write code to produce histograms showing the distributions of `SalePrice`, `TotRmsAbvGrd`, and `OverallCond`.\n",
    "\n",
    "Each histogram should have appropriate title and axes labels, as well as a black vertical line indicating the mean of the dataset. See the documentation for [plotting histograms](https://matplotlib.org/stable/api/_as_gen/matplotlib.axes.Axes.hist.html), [customizing axes](https://matplotlib.org/stable/api/axes_api.html#axis-labels-title-and-legend), and [plotting vertical lines](https://matplotlib.org/stable/api/_as_gen/matplotlib.axes.Axes.axvline.html#matplotlib.axes.Axes.axvline) as needed."
   ]
  },
  {
   "cell_type": "markdown",
   "metadata": {},
   "source": [
    "### Sale Price\n",
    "\n",
    "In the cell below, produce a histogram for `SalePrice`."
   ]
  },
  {
   "cell_type": "code",
   "execution_count": 79,
   "metadata": {},
   "outputs": [
    {
     "data": {
      "image/png": "[encoded data removed]",
      "text/plain": [
       "<Figure size 1080x432 with 1 Axes>"
      ]
     },
     "metadata": {
      "needs_background": "light"
     },
     "output_type": "display_data"
    }
   ],
   "source": [
    "# Plot a histogram to visualize the sale price distribution.\n",
    "plt.figure(figsize=(15,6))\n",
    "\n",
    "# Set the style to 'bmh'\n",
    "plt.style.use('bmh')\n",
    "\n",
    "# Reduce the opacity to make the vertical lines more visible.\n",
    "df['SalePrice'].hist(bins=30, edgecolor='black', color='green', alpha=0.7)\n",
    "\n",
    "# Plot vertical lines for the sale price mean and median  \n",
    "plt.axvline(df['SalePrice'].mean(), linestyle=':', linewidth=3, color='black', label='Mean')\n",
    "plt.axvline(df['SalePrice'].median(), linestyle=':', linewidth=3, color='red', label='Median')\n",
    "\n",
    "# Plot the labels\n",
    "plt.xlabel('Sale Price')\n",
    "plt.ylabel('Frequency')\n",
    "plt.title('Sale Price Distribution')\n",
    "plt.legend();"
   ]
  },
  {
   "cell_type": "markdown",
   "metadata": {},
   "source": [
    "Now, print out the mean, median, and standard deviation:"
   ]
  },
  {
   "cell_type": "code",
   "execution_count": 9,
   "metadata": {},
   "outputs": [
    {
     "name": "stdout",
     "output_type": "stream",
     "text": [
      "The Sale price mean is 180921.19589041095\n",
      "The Sale price median is 163000.0\n",
      "The Sale price standard deviation is 79442.50288288662\n"
     ]
    }
   ],
   "source": [
    "# Your code here\n",
    "print(f\"The Sale price mean is {df['SalePrice'].mean()}\")\n",
    "print(f\"The Sale price median is {df['SalePrice'].median()}\")\n",
    "print(f\"The Sale price standard deviation is {df['SalePrice'].std()}\")"
   ]
  },
  {
   "cell_type": "markdown",
   "metadata": {},
   "source": [
    "In the cell below, interpret the above information."
   ]
  },
  {
   "cell_type": "code",
   "execution_count": 10,
   "metadata": {},
   "outputs": [
    {
     "data": {
      "text/plain": [
       "'\\nThe mean represents the average sale price. It means that houses were sold at a price of 180921 on average.\\nThe median represents the middle price when the prices are arranged at an ascending order. A median price of 163000 means\\nthat the central sale price was 163000. The median price is lower than the mean suggesting presence of some outlier values.\\nThe standard deviation measures the spread of the sale price around the mean. A standard deviation of 79442 shows that the \\nsale prices deviate widely around the mean. Since the mean is greater than the median, the sale price is positively skewed.\\n'"
      ]
     },
     "execution_count": 10,
     "metadata": {},
     "output_type": "execute_result"
    }
   ],
   "source": [
    "# Replace None with appropriate text\n",
    "\"\"\"\n",
    "The mean represents the average sale price. It means that houses were sold at a price of 180921 on average.\n",
    "The median represents the middle price when the prices are arranged at an ascending order. A median price of 163000 means\n",
    "that the central sale price was 163000. The median price is lower than the mean suggesting presence of some outlier values.\n",
    "The standard deviation measures the spread of the sale price around the mean. A standard deviation of 79442 shows that the \n",
    "sale prices deviate widely around the mean. Since the mean is greater than the median, the sale price is positively skewed.\n",
    "\"\"\""
   ]
  },
  {
   "cell_type": "markdown",
   "metadata": {},
   "source": [
    "### Total Rooms Above Grade\n",
    "\n",
    "In the cell below, produce a histogram for `TotRmsAbvGrd`."
   ]
  },
  {
   "cell_type": "code",
   "execution_count": 76,
   "metadata": {},
   "outputs": [
    {
     "data": {
      "image/png": "[encoded data removed]",
      "text/plain": [
       "<Figure size 720x432 with 1 Axes>"
      ]
     },
     "metadata": {
      "needs_background": "light"
     },
     "output_type": "display_data"
    }
   ],
   "source": [
    "# Plot a histogram to show the total rooms above grade distribution\n",
    "plt.figure(figsize=(10,6))\n",
    "\n",
    "# Increase the trasparency to make the vertical lines more visible\n",
    "df['TotRmsAbvGrd'].hist(bins=10, edgecolor='black', alpha=0.6, color='green')\n",
    "\n",
    "# Plot vertical lines for the total rooms above grade mean and median  \n",
    "plt.axvline(df['TotRmsAbvGrd'].mean(), linestyle=':', linewidth=3, color='black', label='Mean')\n",
    "plt.axvline(df['TotRmsAbvGrd'].median(), linestyle=':', linewidth=3, color='red', label='Median')\n",
    "\n",
    "# Plot the labels\n",
    "plt.xlabel('Total Rooms Above Grade')\n",
    "plt.ylabel('Number of Houses')\n",
    "plt.title('Total Rooms Above Grade Distribution')\n",
    "plt.legend();"
   ]
  },
  {
   "cell_type": "markdown",
   "metadata": {},
   "source": [
    "Now, print out the mean, median, and standard deviation:"
   ]
  },
  {
   "cell_type": "code",
   "execution_count": 12,
   "metadata": {},
   "outputs": [
    {
     "name": "stdout",
     "output_type": "stream",
     "text": [
      "The Total Rooms Above Grade mean is 6.517808219178082\n",
      "The Total Rooms Above Grade median is 6.0\n",
      "The Total Rooms Above Grade standard deviation is 1.6253932905840505\n"
     ]
    }
   ],
   "source": [
    "# Your code here\n",
    "print(f\"The Total Rooms Above Grade mean is {df['TotRmsAbvGrd'].mean()}\")\n",
    "print(f\"The Total Rooms Above Grade median is {df['TotRmsAbvGrd'].median()}\")\n",
    "print(f\"The Total Rooms Above Grade standard deviation is {df['TotRmsAbvGrd'].std()}\")"
   ]
  },
  {
   "cell_type": "markdown",
   "metadata": {},
   "source": [
    "In the cell below, interpret the above information."
   ]
  },
  {
   "cell_type": "code",
   "execution_count": 13,
   "metadata": {},
   "outputs": [
    {
     "data": {
      "text/plain": [
       "\"\\nA mean of 6.5 and a median of 6.0 shows that there are no outliers affecting the data. A standard deviation of 1.6 suggests \\nthat the data doesn't deviate much from the mean. Since the mean is slightly greater than the median, the data is slightly\\npositively skewed but is close to symmetry.\\n\""
      ]
     },
     "execution_count": 13,
     "metadata": {},
     "output_type": "execute_result"
    }
   ],
   "source": [
    "# Replace None with appropriate text\n",
    "\"\"\"\n",
    "A mean of 6.5 and a median of 6.0 shows that there are no outliers affecting the data. A standard deviation of 1.6 suggests \n",
    "that the data doesn't deviate much from the mean. Since the mean is slightly greater than the median, the data is slightly\n",
    "positively skewed but is close to symmetry.\n",
    "\"\"\""
   ]
  },
  {
   "cell_type": "markdown",
   "metadata": {},
   "source": [
    "### Overall Condition\n",
    "\n",
    "In the cell below, produce a histogram for `OverallCond`."
   ]
  },
  {
   "cell_type": "code",
   "execution_count": 74,
   "metadata": {},
   "outputs": [
    {
     "data": {
      "image/png": "[encoded data removed]",
      "text/plain": [
       "<Figure size 720x432 with 1 Axes>"
      ]
     },
     "metadata": {
      "needs_background": "light"
     },
     "output_type": "display_data"
    }
   ],
   "source": [
    "# Plot a histogram to visualize the overall condition distribution.\n",
    "plt.figure(figsize=(10,6))\n",
    "\n",
    "# Increase the trasparency of the histogram to make the vertical lines more visible.\n",
    "df['OverallCond'].hist(bins=10, edgecolor='black', color='green', alpha=0.7)\n",
    "                       \n",
    "# Plot vertical lines for the overall condition mean and median                       \n",
    "plt.axvline(df['OverallCond'].mean(), linewidth=3, linestyle=':', color='black', label='Mean')\n",
    "plt.axvline(df['OverallCond'].median(), linewidth=3, linestyle=':', color='red', label='Median')\n",
    "\n",
    "# Plot the labels.\n",
    "plt.xlabel('Overall Condition')\n",
    "plt.ylabel('Number of Houses')\n",
    "plt.title('Overall Condition Distribution')\n",
    "plt.legend();"
   ]
  },
  {
   "cell_type": "markdown",
   "metadata": {},
   "source": [
    "Now, print out the mean, median, and standard deviation:"
   ]
  },
  {
   "cell_type": "code",
   "execution_count": 15,
   "metadata": {},
   "outputs": [
    {
     "name": "stdout",
     "output_type": "stream",
     "text": [
      "The Overall Condition mean is 5.575342465753424\n",
      "The Overall Condition median is 5.0\n",
      "The Overall Condition standard deviation is 1.1127993367127316\n"
     ]
    }
   ],
   "source": [
    "# Your code here\n",
    "print(f\"The Overall Condition mean is {df['OverallCond'].mean()}\")\n",
    "print(f\"The Overall Condition median is {df['OverallCond'].median()}\")\n",
    "print(f\"The Overall Condition standard deviation is {df['OverallCond'].std()}\")"
   ]
  },
  {
   "cell_type": "markdown",
   "metadata": {},
   "source": [
    "In the cell below, interpret the above information."
   ]
  },
  {
   "cell_type": "code",
   "execution_count": 16,
   "metadata": {},
   "outputs": [
    {
     "data": {
      "text/plain": [
       "'\\nA mean of 5.5 means that the average overall condition of the houses is 5.5 which is Average to Above Average. A standard \\ndeviation of 1.1 suggests that the overall condition is relatively close to the mean with most houses falling within a \\nnarrow range of the mean.\\n'"
      ]
     },
     "execution_count": 16,
     "metadata": {},
     "output_type": "execute_result"
    }
   ],
   "source": [
    "# Replace None with appropriate text\n",
    "\"\"\"\n",
    "A mean of 5.5 means that the average overall condition of the houses is 5.5 which is Average to Above Average. A standard \n",
    "deviation of 1.1 suggests that the overall condition is relatively close to the mean with most houses falling within a \n",
    "narrow range of the mean.\n",
    "\"\"\""
   ]
  },
  {
   "cell_type": "markdown",
   "metadata": {},
   "source": [
    "### Type of Dwelling\n",
    "\n",
    "Let's also analyse the relationship between the type of dwelling and the Sale price. This will be used to provide insight into which dwelling have a high sale price.\n",
    "\n",
    "To begin with, let's view the data in the `BldgType`: plot a bar chart of type of dwelling vs sale price:"
   ]
  },
  {
   "cell_type": "code",
   "execution_count": 17,
   "metadata": {},
   "outputs": [
    {
     "data": {
      "text/plain": [
       "array(['1Fam', '2fmCon', 'Duplex', 'TwnhsE', 'Twnhs'], dtype=object)"
      ]
     },
     "execution_count": 17,
     "metadata": {},
     "output_type": "execute_result"
    }
   ],
   "source": [
    "# Retrieve the unique values in the column.\n",
    "df['BldgType'].unique()"
   ]
  },
  {
   "cell_type": "markdown",
   "metadata": {},
   "source": [
    "From this we can conclude that the column has five values. However, the values are not very straightforward and are difficult to understand their meaning. To combat this, let's map the values' definitions into the column. The definitions will be gotten from the `data_description.txt` file."
   ]
  },
  {
   "cell_type": "code",
   "execution_count": 18,
   "metadata": {},
   "outputs": [],
   "source": [
    "# Create a dictionary with the column values as the keys and the definitions as the values.\n",
    "house_type = {\n",
    "    '1Fam':'Single-Family Detached',\n",
    "    '2fmCon': 'Two-Family Conversion',\n",
    "    'Duplex': 'Duplex',\n",
    "    'TwnhsE': 'Townhouse End Unit',\n",
    "    'Twnhs': 'Townhouse Inside Unit'\n",
    "}"
   ]
  },
  {
   "cell_type": "markdown",
   "metadata": {},
   "source": [
    "Now, we can call the `.map()` method to apply these values into their definitions:"
   ]
  },
  {
   "cell_type": "code",
   "execution_count": 19,
   "metadata": {},
   "outputs": [],
   "source": [
    "# Map the values to their corresponding definitions from the house_type dictionary.\n",
    "df['BldgType'] = df['BldgType'].map(house_type)"
   ]
  },
  {
   "cell_type": "markdown",
   "metadata": {},
   "source": [
    "Let's preview the values:"
   ]
  },
  {
   "cell_type": "code",
   "execution_count": 20,
   "metadata": {},
   "outputs": [
    {
     "data": {
      "text/plain": [
       "array(['Single-Family Detached', 'Two-Family Conversion', 'Duplex',\n",
       "       'Townhouse End Unit', 'Townhouse Inside Unit'], dtype=object)"
      ]
     },
     "execution_count": 20,
     "metadata": {},
     "output_type": "execute_result"
    }
   ],
   "source": [
    "# Retrieve the unique values in the column to confirm if the mapping worked.\n",
    "df['BldgType'].unique()"
   ]
  },
  {
   "cell_type": "code",
   "execution_count": 71,
   "metadata": {},
   "outputs": [
    {
     "data": {
      "image/png": "[encoded data removed]",
      "text/plain": [
       "<Figure size 720x432 with 1 Axes>"
      ]
     },
     "metadata": {
      "needs_background": "light"
     },
     "output_type": "display_data"
    }
   ],
   "source": [
    "# Plot a bar graph to visualize the relationship between type of dwelling and sale price.\n",
    "plt.figure(figsize=(10,6))\n",
    "plt.bar(df['BldgType'], df['SalePrice'])\n",
    "plt.xlabel('Type of Dwelling')\n",
    "plt.ylabel('Sale Price')\n",
    "plt.title('Type of Dwelling vs. Sale Price');"
   ]
  },
  {
   "cell_type": "markdown",
   "metadata": {},
   "source": [
    "From this bar chart, it can be interpreted that the Single-Family Detached Dwelling commands the highest sale price"
   ]
  },
  {
   "cell_type": "markdown",
   "metadata": {},
   "source": [
    "## 3. Explore Differences between Subsets\n",
    "\n",
    "As you might have noted in the previous step, the overall condition of the house seems like we should treat it as more of a categorical variable, rather than a numeric variable.\n",
    "\n",
    "One useful way to explore a categorical variable is to create subsets of the full dataset based on that categorical variable, then plot their distributions based on some other variable. Since this dataset is traditionally used for predicting the sale price of a house, let's use `SalePrice` as that other variable.\n",
    "\n",
    "In the cell below, create three variables, each of which represents a record-wise subset of `df` (meaning, it has the same columns as `df`, but only some of the rows).\n",
    "\n",
    "* `below_average_condition`: home sales where the overall condition was less than 5\n",
    "* `average_condition`: home sales where the overall condition was exactly 5\n",
    "* `above_average_condition`: home sales where the overall condition was greater than 5"
   ]
  },
  {
   "cell_type": "code",
   "execution_count": 22,
   "metadata": {},
   "outputs": [],
   "source": [
    "# Replace None with appropriate code\n",
    "below_average_condition = df.loc[df['OverallCond'] < 5]\n",
    "average_condition = df.loc[df['OverallCond'] == 5]\n",
    "above_average_condition = df.loc[df['OverallCond'] > 5]"
   ]
  },
  {
   "cell_type": "markdown",
   "metadata": {},
   "source": [
    "The following code checks that you created the subsets correctly:"
   ]
  },
  {
   "cell_type": "code",
   "execution_count": 23,
   "metadata": {},
   "outputs": [],
   "source": [
    "# Run this cell without changes\n",
    "\n",
    "# Check that all of them still have 80 columns\n",
    "assert below_average_condition.shape[1] == 80\n",
    "assert average_condition.shape[1] == 80\n",
    "assert above_average_condition.shape[1] == 80\n",
    "\n",
    "# Check the numbers of rows of each subset\n",
    "assert below_average_condition.shape[0] == 88\n",
    "assert average_condition.shape[0] == 821\n",
    "assert above_average_condition.shape[0] == 551"
   ]
  },
  {
   "cell_type": "markdown",
   "metadata": {},
   "source": [
    "The following code will produce a plot of the distributions of sale price for each of these subsets:"
   ]
  },
  {
   "cell_type": "code",
   "execution_count": 24,
   "metadata": {},
   "outputs": [
    {
     "data": {
      "image/png": "[encoded data removed]",
      "text/plain": [
       "<Figure size 1080x360 with 1 Axes>"
      ]
     },
     "metadata": {
      "needs_background": "light"
     },
     "output_type": "display_data"
    }
   ],
   "source": [
    "# Run this cell without changes\n",
    "\n",
    "# Set up plot\n",
    "fig, ax = plt.subplots(figsize=(15,5))\n",
    "\n",
    "# Create custom bins so all are on the same scale\n",
    "bins = range(df[\"SalePrice\"].min(), df[\"SalePrice\"].max(), int(df[\"SalePrice\"].median()) // 20)\n",
    "\n",
    "# Plot three histograms, with reduced opacity (alpha) so we\n",
    "# can see them overlapping\n",
    "ax.hist(\n",
    "    x=above_average_condition[\"SalePrice\"],\n",
    "    label=\"above average condition\",\n",
    "    bins=bins,\n",
    "    color=\"cyan\",\n",
    "    alpha=0.5\n",
    ")\n",
    "# Plot a line at the mean sale price for above average condition homes\n",
    "ax.axvline(\n",
    "    above_average_condition[\"SalePrice\"].mean(), \n",
    "    linestyle=\":\", \n",
    "    linewidth=2, \n",
    "    color='red', \n",
    "    label='above average condition'\n",
    ")\n",
    "ax.hist(\n",
    "    x=average_condition[\"SalePrice\"],\n",
    "    label=\"average condition\",\n",
    "    bins=bins,\n",
    "    color=\"gray\",\n",
    "    alpha=0.3\n",
    ")\n",
    "# Plot a line at the mean sale price for average condition homes\n",
    "ax.axvline(\n",
    "    average_condition[\"SalePrice\"].mean(), \n",
    "    linestyle=\":\", \n",
    "    linewidth=2,  \n",
    "    color='green',\n",
    "    label='average condition'\n",
    ")\n",
    "ax.hist(\n",
    "    x=below_average_condition[\"SalePrice\"],\n",
    "    label=\"below average condition\",\n",
    "    bins=bins,\n",
    "    color=\"yellow\",\n",
    "    alpha=0.5\n",
    ")\n",
    "# Plot a line at the mean sale price for below average condition homes\n",
    "ax.axvline(below_average_condition[\"SalePrice\"].mean(), \n",
    "           linestyle=\":\", \n",
    "           linewidth=2, \n",
    "           color='purple',\n",
    "          label='below average condition',\n",
    ")\n",
    "\n",
    "# Customize labels\n",
    "ax.set_title(\"Distributions of Sale Price Grouped by Condition\")\n",
    "ax.set_xlabel(\"Sale Price\")\n",
    "ax.set_ylabel(\"Number of Houses\")\n",
    "ax.legend();"
   ]
  },
  {
   "cell_type": "markdown",
   "metadata": {},
   "source": [
    "Interpret the plot above. What does it tell us about these overall condition categories, and the relationship between overall condition and sale price? Is there anything surprising?"
   ]
  },
  {
   "cell_type": "code",
   "execution_count": 25,
   "metadata": {},
   "outputs": [
    {
     "data": {
      "text/plain": [
       "\"\\nThe distribution of the three conditions is skewed to the right meaning that there are more houses selling for a lower price\\nThe houses in average condition sell for a higher price compared to the houses in above average and below average condition. \\nThis is evident from the fact that the average condition mean is greater than the above average condition mean.The houses in \\naverage condition also have a wider range of sale price compared to the houses in above average and below average condition. \\nWhat's surprising about this is that average condition houses are selling ata higher price compared to houses in above \\naverage condition.\\n\""
      ]
     },
     "execution_count": 25,
     "metadata": {},
     "output_type": "execute_result"
    }
   ],
   "source": [
    "# Replace None with appropriate text\n",
    "\"\"\"\n",
    "The distribution of the three conditions is skewed to the right meaning that there are more houses selling for a lower price\n",
    "The houses in average condition sell for a higher price compared to the houses in above average and below average condition. \n",
    "This is evident from the fact that the average condition mean is greater than the above average condition mean.The houses in \n",
    "average condition also have a wider range of sale price compared to the houses in above average and below average condition. \n",
    "What's surprising about this is that average condition houses are selling ata higher price compared to houses in above \n",
    "average condition.\n",
    "\"\"\""
   ]
  },
  {
   "cell_type": "markdown",
   "metadata": {},
   "source": [
    "## 4. The Sale price trend over time\n",
    "\n",
    "The sale price trend over time will help provide an insight into whether the housing prices are rising or falling.\n",
    "\n",
    "Let's plot a bar graph to visualize the trend of sale price:"
   ]
  },
  {
   "cell_type": "code",
   "execution_count": 54,
   "metadata": {},
   "outputs": [
    {
     "data": {
      "image/png": "[encoded data removed]",
      "text/plain": [
       "<Figure size 720x432 with 1 Axes>"
      ]
     },
     "metadata": {
      "needs_background": "light"
     },
     "output_type": "display_data"
    }
   ],
   "source": [
    "# Group the data by year sold and calculate the mean sale price for each year.\n",
    "yearly_trend = df.groupby('YrSold')['SalePrice'].mean()\n",
    "\n",
    "# Import numpy to aid in creating the xticks\n",
    "import numpy as np\n",
    "plt.figure(figsize=(10, 6))\n",
    "yearly_trends.plot(color='green')\n",
    "\n",
    "# Create x-axis ticks to be spaced evenly spaced between 2006 and 2010\n",
    "xticks=np.linspace(2006,2010, 5)\n",
    "plt.xticks(xticks)\n",
    "\n",
    "# Plot labels\n",
    "plt.xlabel('Year Sold')\n",
    "plt.ylabel('Average Sale Price')\n",
    "plt.title('Average Sale Price Over Years')\n",
    "plt.show()"
   ]
  },
  {
   "cell_type": "code",
   "execution_count": null,
   "metadata": {},
   "outputs": [],
   "source": [
    "\"\"\"\"\n",
    "From the graph above, we can derive that the prices went up in 2007 and reached their all-time high. Following this, the \n",
    "prices went down in 2008, went slightly high in 2009 then went back to relatively the same value in 2010.\n",
    "\"\"\"\""
   ]
  },
  {
   "cell_type": "markdown",
   "metadata": {},
   "source": [
    "## 5. Explore Correlations\n",
    "\n",
    "To understand more about what features of these homes lead to higher sale prices, let's look at some correlations. We'll return to using the full `df`, rather than the subsets.\n",
    "\n",
    "In the cell below, print out both the name of the column and the Pearson correlation for the column that is ***most positively correlated*** with `SalePrice` (other than `SalePrice`, which is perfectly correlated with itself).\n",
    "\n",
    "We'll only check the correlations with some kind of numeric data type.\n",
    "\n",
    "You can import additional libraries, although it is possible to do this just using pandas."
   ]
  },
  {
   "cell_type": "code",
   "execution_count": 26,
   "metadata": {},
   "outputs": [
    {
     "data": {
      "text/plain": [
       "'OverallQual'"
      ]
     },
     "execution_count": 26,
     "metadata": {},
     "output_type": "execute_result"
    }
   ],
   "source": [
    "# Your code here\n",
    "max_corr = df.corr(method='pearson')[\"SalePrice\"].drop(\"SalePrice\").idxmax()\n",
    "max_corr"
   ]
  },
  {
   "cell_type": "markdown",
   "metadata": {},
   "source": [
    "Now, find the ***most negatively correlated*** column:"
   ]
  },
  {
   "cell_type": "code",
   "execution_count": 27,
   "metadata": {},
   "outputs": [
    {
     "data": {
      "text/plain": [
       "'KitchenAbvGr'"
      ]
     },
     "execution_count": 27,
     "metadata": {},
     "output_type": "execute_result"
    }
   ],
   "source": [
    "# Your code here\n",
    "min_corr = df.corr(method='pearson')[\"SalePrice\"].drop(\"SalePrice\").idxmin()\n",
    "min_corr"
   ]
  },
  {
   "cell_type": "markdown",
   "metadata": {},
   "source": [
    "Once you have your answer, edit the code below so that it produces a box plot of the relevant columns."
   ]
  },
  {
   "cell_type": "code",
   "execution_count": 28,
   "metadata": {},
   "outputs": [
    {
     "data": {
      "image/png": "[encoded data removed]",
      "text/plain": [
       "<Figure size 1080x360 with 2 Axes>"
      ]
     },
     "metadata": {
      "needs_background": "light"
     },
     "output_type": "display_data"
    }
   ],
   "source": [
    "# Replace None with appropriate code\n",
    "\n",
    "import seaborn as sns\n",
    "\n",
    "fig, (ax1, ax2) = plt.subplots(ncols=2, figsize=(15,5))\n",
    "\n",
    "# Plot distribution of column with highest correlation\n",
    "sns.boxplot(\n",
    "    x=df['OverallQual'],\n",
    "    y=df[\"SalePrice\"],\n",
    "    ax=ax1\n",
    ")\n",
    "# Plot distribution of column with most negative correlation\n",
    "sns.boxplot(\n",
    "    x=df['KitchenAbvGr'],\n",
    "    y=df[\"SalePrice\"],\n",
    "    ax=ax2\n",
    ")\n",
    "\n",
    "# Customize labels\n",
    "ax1.set_title(\"Sale Price vs. Overall Quality\")\n",
    "ax1.set_xlabel('Overall Quality')\n",
    "ax1.set_ylabel(\"Sale Price\")\n",
    "ax2.set_title(\"Sale Price vs. Kitchens Above Ground\")\n",
    "ax2.set_xlabel('Kitchen Above Ground')\n",
    "ax2.set_ylabel(\"Sale Price\");"
   ]
  },
  {
   "cell_type": "markdown",
   "metadata": {},
   "source": [
    "Interpret the results below. Consult `data/data_description.txt` as needed."
   ]
  },
  {
   "cell_type": "code",
   "execution_count": 29,
   "metadata": {},
   "outputs": [
    {
     "data": {
      "text/plain": [
       "'\\nFirst graph.\\nAs the overall quality of the house increaes, the sale price increases as well. Houses in a rating of 10 (very excellent \\ncondition) are commanding a higher sale price while houses with a rating of 1  (very poor condition)  are being sold at a \\nvery low price. However, there are outliers at all quality ratings meaning that some houses are being sold at a higher or\\nprice than expected.\\nThe second graph.\\nThis shows that houses with one kitchen above ground are being sold at a higher price compared to houses with 2\\nand 3 kitchens above ground. To add to this, houses with 3 kitchens above ground are being sold at a very low price.\\nMoreover, houses with 1 kitchen above ground have the most outliers showing that some sell at significantly higher prices.\\n'"
      ]
     },
     "execution_count": 29,
     "metadata": {},
     "output_type": "execute_result"
    }
   ],
   "source": [
    "# Replace None with appropriate text\n",
    "\"\"\"\n",
    "First graph.\n",
    "As the overall quality of the house increaes, the sale price increases as well. Houses in a rating of 10 (very excellent \n",
    "condition) are commanding a higher sale price while houses with a rating of 1  (very poor condition)  are being sold at a \n",
    "very low price. However, there are outliers at all quality ratings meaning that some houses are being sold at a higher or\n",
    "price than expected.\n",
    "The second graph.\n",
    "This shows that houses with one kitchen above ground are being sold at a higher price compared to houses with 2\n",
    "and 3 kitchens above ground. To add to this, houses with 3 kitchens above ground are being sold at a very low price.\n",
    "Moreover, houses with 1 kitchen above ground have the most outliers showing that some sell at significantly higher prices.\n",
    "\"\"\""
   ]
  },
  {
   "cell_type": "markdown",
   "metadata": {},
   "source": [
    "## 6. Engineer and Explore a New Feature\n",
    "\n",
    "Here the code is written for you, all you need to do is interpret it.\n",
    "\n",
    "We note that the data spans across several years of sales:"
   ]
  },
  {
   "cell_type": "code",
   "execution_count": 30,
   "metadata": {},
   "outputs": [
    {
     "data": {
      "text/plain": [
       "2006    314\n",
       "2007    329\n",
       "2008    304\n",
       "2009    338\n",
       "2010    175\n",
       "Name: YrSold, dtype: int64"
      ]
     },
     "execution_count": 30,
     "metadata": {},
     "output_type": "execute_result"
    }
   ],
   "source": [
    "# Run this cell without changes\n",
    "df[\"YrSold\"].value_counts().sort_index()"
   ]
  },
  {
   "cell_type": "markdown",
   "metadata": {},
   "source": [
    "Maybe we can learn something interesting from the age of the home when it was sold. This uses information from the `YrBuilt` and `YrSold` columns, but represents a truly distinct feature."
   ]
  },
  {
   "cell_type": "code",
   "execution_count": 31,
   "metadata": {},
   "outputs": [
    {
     "data": {
      "image/png": "[encoded data removed]",
      "text/plain": [
       "<Figure size 1080x360 with 1 Axes>"
      ]
     },
     "metadata": {
      "needs_background": "light"
     },
     "output_type": "display_data"
    }
   ],
   "source": [
    "# Run this cell without changes\n",
    "\n",
    "# Make a new column, Age\n",
    "df[\"Age\"] = df[\"YrSold\"] - df[\"YearBuilt\"]\n",
    "\n",
    "# Set up plot\n",
    "fig, ax = plt.subplots(figsize=(15,5))\n",
    "\n",
    "# Plot Age vs. SalePrice\n",
    "ax.scatter(df[\"Age\"], df[\"SalePrice\"], alpha=0.3, color=\"green\")\n",
    "ax.set_title(\"Home Age vs. Sale Price\")\n",
    "ax.set_xlabel(\"Age of Home at Time of Sale\")\n",
    "ax.set_ylabel(\"Sale Price\");"
   ]
  },
  {
   "cell_type": "markdown",
   "metadata": {},
   "source": [
    "Interpret this plot below:"
   ]
  },
  {
   "cell_type": "code",
   "execution_count": 32,
   "metadata": {},
   "outputs": [
    {
     "data": {
      "text/plain": [
       "'\\nHouses with a low age go for a higher sale price compared to houses with a high age. As the age of the house increases, the\\nprice decreaces although there are some exceptions. Moreover, there are a lot of houses for sale under the age of 20. This \\nis backed up by the dense clusters at ages 0 - 20 which then start scattering past the age 20 showing a decrease in the \\nnumber of houses. From this we can derive that as the age increases the number of houses for sale in the market decreases.\\n'"
      ]
     },
     "execution_count": 32,
     "metadata": {},
     "output_type": "execute_result"
    }
   ],
   "source": [
    "# Replace None with appropriate text\n",
    "\"\"\"\n",
    "Houses with a low age go for a higher sale price compared to houses with a high age. As the age of the house increases, the\n",
    "price decreaces although there are some exceptions. Moreover, there are a lot of houses for sale under the age of 20. This \n",
    "is backed up by the dense clusters at ages 0 - 20 which then start scattering past the age 20 showing a decrease in the \n",
    "number of houses. From this we can derive that as the age increases the number of houses for sale in the market decreases.\n",
    "\"\"\""
   ]
  },
  {
   "cell_type": "markdown",
   "metadata": {},
   "source": [
    "## Summary\n",
    "\n",
    "Congratulations, you've completed an exploratory data analysis of a popular dataset. You saw how to inspect the distributions of individual columns, subsets of columns, correlations, and new engineered features."
   ]
  }
 ],
 "metadata": {
  "kernelspec": {
   "display_name": "Python 3",
   "language": "python",
   "name": "python3"
  },
  "language_info": {
   "codemirror_mode": {
    "name": "ipython",
    "version": 3
   },
   "file_extension": ".py",
   "mimetype": "text/x-python",
   "name": "python",
   "nbconvert_exporter": "python",
   "pygments_lexer": "ipython3",
   "version": "3.8.5"
  }
 },
 "nbformat": 4,
 "nbformat_minor": 2
}
